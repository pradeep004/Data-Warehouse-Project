{
  "nbformat": 4,
  "nbformat_minor": 0,
  "metadata": {
    "colab": {
      "name": "Python_Function.ipynb",
      "provenance": [],
      "authorship_tag": "ABX9TyPMvnAvyNgCTdDGASdupeo+",
      "include_colab_link": true
    },
    "kernelspec": {
      "name": "python3",
      "display_name": "Python 3"
    }
  },
  "cells": [
    {
      "cell_type": "markdown",
      "metadata": {
        "id": "view-in-github",
        "colab_type": "text"
      },
      "source": [
        "<a href=\"https://colab.research.google.com/github/pradeep004/Data-Warehouse-visualisation-and-report/blob/main/Python_Function.ipynb\" target=\"_parent\"><img src=\"https://colab.research.google.com/assets/colab-badge.svg\" alt=\"Open In Colab\"/></a>"
      ]
    },
    {
      "cell_type": "markdown",
      "metadata": {
        "id": "D9TK3FU4sZs0"
      },
      "source": [
        "###Python Function Programming \r\n",
        "\r\n",
        "#####1).Clear and Understanding\r\n",
        "#####2).Easy to extemd\r\n",
        "#####3).Easy to maintain\r\n",
        "#####4).Memory Effecient\r\n",
        "#####5).Dry\r\n"
      ]
    },
    {
      "cell_type": "code",
      "metadata": {
        "colab": {
          "base_uri": "https://localhost:8080/"
        },
        "id": "4L49uvfsq9dj",
        "outputId": "25e801e6-3d1c-4672-be26-6ab5a58f36d8"
      },
      "source": [
        "#Pure Function \r\n",
        "\r\n",
        "def multiply_by2(li):\r\n",
        "  out_li = []\r\n",
        "  for values in li:\r\n",
        "    values = values * 2\r\n",
        "    out_li.append(values)\r\n",
        "  return out_li\r\n",
        "print(\"Result :\",multiply_by2([1,2,3]))"
      ],
      "execution_count": null,
      "outputs": [
        {
          "output_type": "stream",
          "text": [
            "Result : [2, 4, 6]\n"
          ],
          "name": "stdout"
        }
      ]
    },
    {
      "cell_type": "markdown",
      "metadata": {
        "id": "vtvDwmoIzPnU"
      },
      "source": [
        "#####map, filter, zip and reduce\r\n",
        "#####1).Map-The map() function executes a specified function for each item in an iterable. The item is sent to the function as a parameter.\r\n",
        "\r\n",
        "#####map(function ,iterables)"
      ]
    },
    {
      "cell_type": "code",
      "metadata": {
        "colab": {
          "base_uri": "https://localhost:8080/"
        },
        "id": "8ReIF9ysvHxo",
        "outputId": "4cc57471-f4ec-4614-bfb9-7c683b281bfa"
      },
      "source": [
        "\r\n",
        "#By using map function\r\n",
        "#map(function,iterables) - allows to create new list\r\n",
        "my_list = [1,2,3,4]\r\n",
        "def multi_by2(item):\r\n",
        "  return item * 2\r\n",
        "\r\n",
        "print(list(map(multi_by2, my_list)))\r\n",
        "print(my_list)"
      ],
      "execution_count": null,
      "outputs": [
        {
          "output_type": "stream",
          "text": [
            "[2, 4, 6, 8]\n",
            "[1, 2, 3, 4]\n"
          ],
          "name": "stdout"
        }
      ]
    },
    {
      "cell_type": "markdown",
      "metadata": {
        "id": "RjMs-s7B0avI"
      },
      "source": [
        "#####2).Filters"
      ]
    },
    {
      "cell_type": "code",
      "metadata": {
        "colab": {
          "base_uri": "https://localhost:8080/"
        },
        "id": "kDbGlGMuy0WH",
        "outputId": "07fb0a9e-32a2-49e1-97ff-783b21a344fc"
      },
      "source": [
        "#Filters - filter the item in function \r\n",
        "my_list = [1,2,3,4]\r\n",
        "def check_odd(item):\r\n",
        "  return item % 2 != 0\r\n",
        "\r\n",
        "print(list(filter(check_odd,my_list)))\r\n",
        "print(my_list)"
      ],
      "execution_count": null,
      "outputs": [
        {
          "output_type": "stream",
          "text": [
            "[1, 3]\n",
            "[1, 2, 3, 4]\n"
          ],
          "name": "stdout"
        }
      ]
    },
    {
      "cell_type": "markdown",
      "metadata": {
        "id": "p3XkL07w1F_R"
      },
      "source": [
        "#####3).Zip\r\n"
      ]
    },
    {
      "cell_type": "code",
      "metadata": {
        "colab": {
          "base_uri": "https://localhost:8080/"
        },
        "id": "WYN9b4aX08N7",
        "outputId": "2ff7f0ab-fda0-45f1-86b0-32b0a48f9d26"
      },
      "source": [
        "#zip:- combining the data\r\n",
        "my_list = [1,2,3]\r\n",
        "your_list = [10,20,30]\r\n",
        "another_tuple = (100,200,300)\r\n",
        "\r\n",
        "print(list(zip(my_list,your_list,another_tuple)))"
      ],
      "execution_count": null,
      "outputs": [
        {
          "output_type": "stream",
          "text": [
            "[(1, 10, 100), (2, 20, 200), (3, 30, 300)]\n"
          ],
          "name": "stdout"
        }
      ]
    },
    {
      "cell_type": "markdown",
      "metadata": {
        "id": "a2cwoEKj2JuO"
      },
      "source": [
        "#####4).Reduce"
      ]
    },
    {
      "cell_type": "code",
      "metadata": {
        "colab": {
          "base_uri": "https://localhost:8080/"
        },
        "id": "v8_T3QuG1cOU",
        "outputId": "c191e890-dbd6-4c24-c9b7-b5e17bc78ba4"
      },
      "source": [
        "#Reduce(function,sequence[, initial])\r\n",
        "from functools import reduce\r\n",
        "my_list = [1,2,3]\r\n",
        "def accumalator(acc,item):\r\n",
        "  print(acc,item)\r\n",
        "  return acc + item \r\n",
        "\r\n",
        "print(reduce(accumalator,my_list, 0))\r\n",
        "print(my_list)\r\n"
      ],
      "execution_count": null,
      "outputs": [
        {
          "output_type": "stream",
          "text": [
            "0 1\n",
            "1 2\n",
            "3 3\n",
            "6\n",
            "[1, 2, 3]\n"
          ],
          "name": "stdout"
        }
      ]
    },
    {
      "cell_type": "code",
      "metadata": {
        "id": "L-t-Iw7ksmK4",
        "colab": {
          "base_uri": "https://localhost:8080/"
        },
        "outputId": "9b530d0c-64cc-4aed-9b22-175854ec1c7a"
      },
      "source": [
        "#lamda expresion - Only use once in a program \r\n",
        "from functools import reduce\r\n",
        "my_list = [1,2,3]\r\n",
        "print(list(map(lambda item :item * 2,my_list)))\r\n"
      ],
      "execution_count": null,
      "outputs": [
        {
          "output_type": "stream",
          "text": [
            "[2, 4, 6]\n"
          ],
          "name": "stdout"
        }
      ]
    },
    {
      "cell_type": "code",
      "metadata": {
        "colab": {
          "base_uri": "https://localhost:8080/"
        },
        "id": "PIYnzXGxJVPv",
        "outputId": "8368355b-2d26-4fbe-bf72-727dc10e5ae7"
      },
      "source": [
        "#EXercistse on Lambda\r\n",
        "my_list = [2,3,4]\r\n",
        "print(list(map(lambda item :item *item ,my_list)))\r\n",
        "\r\n",
        "\r\n",
        "#Sorting the list by 1st index\r\n",
        "#List Sorting\r\n",
        "a = [(0,2),(4,3),(9,9),(10,-1)]\r\n",
        "a.sort(key = lambda x :x[1])\r\n",
        "print(a)"
      ],
      "execution_count": null,
      "outputs": [
        {
          "output_type": "stream",
          "text": [
            "[4, 9, 16]\n",
            "[(10, -1), (0, 2), (4, 3), (9, 9)]\n"
          ],
          "name": "stdout"
        }
      ]
    },
    {
      "cell_type": "code",
      "metadata": {
        "colab": {
          "base_uri": "https://localhost:8080/"
        },
        "id": "lMxuIf1sKCNO",
        "outputId": "5db7837c-9a81-47dc-9913-a31a6efcbbf6"
      },
      "source": [
        "#list,set,dictionory - Comprehensions\r\n",
        "my_list = [char for char in 'hello']\r\n",
        "my_list2 = [num * 2 for num in range(0,100)]\r\n",
        "print(my_list2)\r\n",
        "print(my_list)"
      ],
      "execution_count": null,
      "outputs": [
        {
          "output_type": "stream",
          "text": [
            "[0, 2, 4, 6, 8, 10, 12, 14, 16, 18, 20, 22, 24, 26, 28, 30, 32, 34, 36, 38, 40, 42, 44, 46, 48, 50, 52, 54, 56, 58, 60, 62, 64, 66, 68, 70, 72, 74, 76, 78, 80, 82, 84, 86, 88, 90, 92, 94, 96, 98, 100, 102, 104, 106, 108, 110, 112, 114, 116, 118, 120, 122, 124, 126, 128, 130, 132, 134, 136, 138, 140, 142, 144, 146, 148, 150, 152, 154, 156, 158, 160, 162, 164, 166, 168, 170, 172, 174, 176, 178, 180, 182, 184, 186, 188, 190, 192, 194, 196, 198]\n",
            "['h', 'e', 'l', 'l', 'o']\n"
          ],
          "name": "stdout"
        }
      ]
    },
    {
      "cell_type": "code",
      "metadata": {
        "id": "lM5gdPXvMYfP"
      },
      "source": [
        ""
      ],
      "execution_count": null,
      "outputs": []
    }
  ]
}